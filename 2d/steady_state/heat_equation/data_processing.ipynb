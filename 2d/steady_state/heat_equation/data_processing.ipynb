{
 "cells": [
  {
   "cell_type": "code",
   "execution_count": 2,
   "metadata": {},
   "outputs": [
    {
     "name": "stdout",
     "output_type": "stream",
     "text": [
      "[[-1.         -0.96969697 -0.93939394 ...  1.93939394  1.96969697\n",
      "   2.        ]\n",
      " [-1.         -0.96969697 -0.93939394 ...  1.93939394  1.96969697\n",
      "   2.        ]\n",
      " [-1.         -0.96969697 -0.93939394 ...  1.93939394  1.96969697\n",
      "   2.        ]\n",
      " ...\n",
      " [-1.         -0.96969697 -0.93939394 ...  1.93939394  1.96969697\n",
      "   2.        ]\n",
      " [-1.         -0.96969697 -0.93939394 ...  1.93939394  1.96969697\n",
      "   2.        ]\n",
      " [-1.         -0.96969697 -0.93939394 ...  1.93939394  1.96969697\n",
      "   2.        ]] [[-1.         -1.         -1.         ... -1.         -1.\n",
      "  -1.        ]\n",
      " [-0.97777778 -0.97777778 -0.97777778 ... -0.97777778 -0.97777778\n",
      "  -0.97777778]\n",
      " [-0.95555556 -0.95555556 -0.95555556 ... -0.95555556 -0.95555556\n",
      "  -0.95555556]\n",
      " ...\n",
      " [ 1.15555556  1.15555556  1.15555556 ...  1.15555556  1.15555556\n",
      "   1.15555556]\n",
      " [ 1.17777778  1.17777778  1.17777778 ...  1.17777778  1.17777778\n",
      "   1.17777778]\n",
      " [ 1.2         1.2         1.2        ...  1.2         1.2\n",
      "   1.2       ]]\n"
     ]
    },
    {
     "ename": "TypeError",
     "evalue": "point_is_inside_cell() missing 1 required positional argument: 'point'",
     "output_type": "error",
     "traceback": [
      "\u001b[0;31m---------------------------------------------------------------------------\u001b[0m",
      "\u001b[0;31mTypeError\u001b[0m                                 Traceback (most recent call last)",
      "Cell \u001b[0;32mIn[2], line 35\u001b[0m\n\u001b[1;32m     32\u001b[0m \u001b[38;5;28;01mfor\u001b[39;00m i, px \u001b[38;5;129;01min\u001b[39;00m \u001b[38;5;28menumerate\u001b[39m(x):\n\u001b[1;32m     33\u001b[0m     \u001b[38;5;28;01mfor\u001b[39;00m j, py \u001b[38;5;129;01min\u001b[39;00m \u001b[38;5;28menumerate\u001b[39m(y):\n\u001b[1;32m     34\u001b[0m         \u001b[38;5;66;03m# Check if the point lies within the rectangle bounds\u001b[39;00m\n\u001b[0;32m---> 35\u001b[0m         \u001b[38;5;28;01mif\u001b[39;00m \u001b[43mrectangle_mesh\u001b[49m\u001b[38;5;241;43m.\u001b[39;49m\u001b[43mpoint_is_inside_cell\u001b[49m\u001b[43m(\u001b[49m\u001b[43m[\u001b[49m\u001b[43mpx\u001b[49m\u001b[43m,\u001b[49m\u001b[43m \u001b[49m\u001b[43mpy\u001b[49m\u001b[43m,\u001b[49m\u001b[43m \u001b[49m\u001b[43mz\u001b[49m\u001b[43m]\u001b[49m\u001b[43m)\u001b[49m:\n\u001b[1;32m     36\u001b[0m             binary_mask[j, i] \u001b[38;5;241m=\u001b[39m \u001b[38;5;241m1\u001b[39m\n\u001b[1;32m     38\u001b[0m \u001b[38;5;66;03m# Save the binary mask as a .npy file\u001b[39;00m\n",
      "\u001b[0;31mTypeError\u001b[0m: point_is_inside_cell() missing 1 required positional argument: 'point'"
     ]
    }
   ],
   "source": [
    "import pyvista as pv\n",
    "import numpy as np\n",
    "\n",
    "# Load the VTK file containing the rectangle geometry\n",
    "rectangle_mesh = pv.read(\"mesh/mesh.vtk\")\n",
    "\n",
    "# Extract the bounds of the rectangle\n",
    "xmin, xmax, ymin, ymax, zmin, zmax = rectangle_mesh.bounds\n",
    "\n",
    "# Create a square that completely encloses the rectangle\n",
    "padding = 1.0  # Adjust padding as needed\n",
    "square_xmin, square_xmax = xmin - padding, xmax + padding\n",
    "square_ymin, square_ymax = ymin - padding, ymax + padding\n",
    "\n",
    "# Create a structured grid for the square\n",
    "resolution = 100  # Number of cells along one axis; higher = finer grid\n",
    "x = np.linspace(square_xmin, square_xmax, resolution)\n",
    "y = np.linspace(square_ymin, square_ymax, resolution)\n",
    "z = np.mean([zmin, zmax])  # Assume a constant z-plane for 2D geometry\n",
    "\n",
    "# Create a 2D grid in the square's plane\n",
    "xx, yy = np.meshgrid(x, y)\n",
    "print(xx,yy)\n",
    "points = np.c_[xx.ravel(), yy.ravel(), np.full(xx.size, z)]\n",
    "\n",
    "# Create a PyVista UnstructuredGrid from the points\n",
    "grid = pv.PolyData(points)\n",
    "\n",
    "# Create a binary mask: inside rectangle = 1, outside = 0\n",
    "binary_mask = np.zeros(xx.shape, dtype=int)\n",
    "\n",
    "for i, px in enumerate(x):\n",
    "    for j, py in enumerate(y):\n",
    "        # Check if the point lies within the rectangle bounds\n",
    "        if xmin <= px <= xmax and ymin <= py <= ymax:\n",
    "            binary_mask[j, i] = 1\n",
    "\n",
    "# Save the binary mask as a .npy file\n",
    "np.save(\"binary_mask.npy\", binary_mask)\n",
    "\n",
    "# Optional: Visualize the setup using PyVista\n",
    "# plotter = pv.Plotter()\n",
    "# plotter.add_mesh(grid, color=\"lightblue\", point_size=5, render_points_as_spheres=True)\n",
    "# plotter.add_mesh(rectangle_mesh, color=\"red\", label=\"Rectangle\")\n",
    "# plotter.add_legend()\n",
    "# plotter.show()\n",
    "\n",
    "print(\"Binary mask saved as 'binary_mask.npy'.\")\n"
   ]
  },
  {
   "cell_type": "code",
   "execution_count": null,
   "metadata": {},
   "outputs": [],
   "source": []
  }
 ],
 "metadata": {
  "kernelspec": {
   "display_name": "venv",
   "language": "python",
   "name": "python3"
  },
  "language_info": {
   "codemirror_mode": {
    "name": "ipython",
    "version": 3
   },
   "file_extension": ".py",
   "mimetype": "text/x-python",
   "name": "python",
   "nbconvert_exporter": "python",
   "pygments_lexer": "ipython3",
   "version": "3.9.6"
  }
 },
 "nbformat": 4,
 "nbformat_minor": 2
}
